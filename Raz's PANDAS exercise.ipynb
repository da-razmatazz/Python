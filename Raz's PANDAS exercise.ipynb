{
 "cells": [
  {
   "cell_type": "markdown",
   "id": "21267f9e",
   "metadata": {},
   "source": [
    "PANDAS"
   ]
  },
  {
   "cell_type": "markdown",
   "id": "13fa92bc",
   "metadata": {},
   "source": [
    "# Assignment 1: Series Basics\n",
    "\n",
    "The code has been previded to create an array, `oil_array` from a dataframe column. \n",
    "\n",
    "* Convert `oil_array` into a Pandas Series, called `oil_series`. Give it a name!\n",
    "* Return the name, dtype, size, and index of `oil_series`.\n",
    "\n",
    "Take the mean of the values array. \n",
    "\n",
    "Then, convert the series to integer datatype and recalculate the mean. \n"
   ]
  },
  {
   "cell_type": "code",
   "execution_count": 1,
   "id": "e1a2a9e9",
   "metadata": {},
   "outputs": [],
   "source": [
    "import numpy as np\n",
    "import pandas as pd"
   ]
  },
  {
   "cell_type": "code",
   "execution_count": 2,
   "id": "76dae978",
   "metadata": {
    "scrolled": true
   },
   "outputs": [
    {
     "data": {
      "text/plain": [
       "array([52.22, 51.44, 51.98, 52.01, 52.82, 54.01, 53.8 , 53.75, 52.36,\n",
       "       53.26, 53.77, 53.98, 51.95, 50.82, 52.19, 53.01, 52.36, 52.45,\n",
       "       51.12, 51.39, 52.33, 52.77, 52.38, 52.14, 53.24, 53.18, 52.63,\n",
       "       52.75, 53.9 , 53.55, 53.81, 53.01, 52.19, 52.37, 52.99, 53.84,\n",
       "       52.96, 53.21, 53.11, 53.41, 53.41, 54.02, 53.61, 54.48, 53.99,\n",
       "       54.04, 54.  , 53.82, 52.63, 53.33, 53.19, 52.68, 49.83, 48.75,\n",
       "       48.05, 47.95, 47.24, 48.34, 48.3 , 48.34, 47.79, 47.02, 47.29,\n",
       "       47.  , 47.3 , 47.02, 48.36, 49.47, 50.3 , 50.54, 50.25, 50.99,\n",
       "       51.14, 51.69, 52.25, 53.06, 53.38, 53.12, 53.19, 52.62, 52.46,\n",
       "       50.49, 50.26, 49.64, 48.9 , 49.22, 49.22, 48.96, 49.31, 48.83,\n",
       "       47.65, 47.79, 45.55, 46.23, 46.46, 45.84, 47.28, 47.81, 47.83,\n",
       "       48.86])"
      ]
     },
     "execution_count": 2,
     "metadata": {},
     "output_type": "execute_result"
    }
   ],
   "source": [
    "# create a DataFrame from the oil file, drop missing values\n",
    "oil = pd.read_csv(r\"C:\\Users\\razhd\\OneDrive\\Desktop\\DATA ANALYST - HUJI 2022\\Module 3 - Python\\Lecture 4\\oil.csv\").dropna()\n",
    "\n",
    "# Grab 100 rows of oil prices\n",
    "oil_array = np.array(oil[\"dcoilwtico\"].iloc[1000:1100])\n",
    "oil_array"
   ]
  },
  {
   "cell_type": "code",
   "execution_count": 3,
   "id": "76549e17",
   "metadata": {
    "scrolled": true
   },
   "outputs": [
    {
     "data": {
      "text/plain": [
       "0     52.22\n",
       "1     51.44\n",
       "2     51.98\n",
       "3     52.01\n",
       "4     52.82\n",
       "      ...  \n",
       "95    45.84\n",
       "96    47.28\n",
       "97    47.81\n",
       "98    47.83\n",
       "99    48.86\n",
       "Name: Oil, Length: 100, dtype: float64"
      ]
     },
     "execution_count": 3,
     "metadata": {},
     "output_type": "execute_result"
    }
   ],
   "source": [
    "oil_series = pd.Series(oil_array, name=\"Oil\")\n",
    "oil_series"
   ]
  },
  {
   "cell_type": "code",
   "execution_count": 4,
   "id": "bde66180",
   "metadata": {
    "scrolled": true
   },
   "outputs": [
    {
     "data": {
      "text/plain": [
       "51.128299999999996"
      ]
     },
     "execution_count": 4,
     "metadata": {},
     "output_type": "execute_result"
    }
   ],
   "source": [
    "np.mean(oil_series.values)"
   ]
  },
  {
   "cell_type": "code",
   "execution_count": 5,
   "id": "0cc24276",
   "metadata": {
    "scrolled": false
   },
   "outputs": [
    {
     "data": {
      "text/plain": [
       "50.66"
      ]
     },
     "execution_count": 5,
     "metadata": {},
     "output_type": "execute_result"
    }
   ],
   "source": [
    "oil_series.astype('int64').values.mean()"
   ]
  },
  {
   "cell_type": "markdown",
   "id": "6342afa2",
   "metadata": {},
   "source": [
    "Assignment 2: Accessing Series Data\n",
    "Set the date series, which has been created below, to be the index of the oil price series created in assignment 1.\n",
    "Then, take the mean of the first 10 and last 10 prices of the series.\n",
    "Finally, grab all oil prices from January 1st, 2017 - January 7th, 2017 (inclusive) and set the index to the default integer index."
   ]
  },
  {
   "cell_type": "code",
   "execution_count": 6,
   "id": "b96208bb",
   "metadata": {},
   "outputs": [
    {
     "data": {
      "text/plain": [
       "1035    2016-12-20\n",
       "1036    2016-12-21\n",
       "1037    2016-12-22\n",
       "1038    2016-12-23\n",
       "1040    2016-12-27\n",
       "           ...    \n",
       "1135    2017-05-09\n",
       "1136    2017-05-10\n",
       "1137    2017-05-11\n",
       "1138    2017-05-12\n",
       "1139    2017-05-15\n",
       "Name: date, Length: 100, dtype: object"
      ]
     },
     "execution_count": 6,
     "metadata": {},
     "output_type": "execute_result"
    }
   ],
   "source": [
    "dates = pd.Series(oil[\"date\"]).iloc[1000:1100]\n",
    "dates"
   ]
  },
  {
   "cell_type": "code",
   "execution_count": 7,
   "id": "c635fdc6",
   "metadata": {
    "scrolled": true
   },
   "outputs": [
    {
     "data": {
      "text/plain": [
       "date\n",
       "2016-12-20    52.22\n",
       "2016-12-21    51.44\n",
       "2016-12-22    51.98\n",
       "2016-12-23    52.01\n",
       "2016-12-27    52.82\n",
       "              ...  \n",
       "2017-05-09    45.84\n",
       "2017-05-10    47.28\n",
       "2017-05-11    47.81\n",
       "2017-05-12    47.83\n",
       "2017-05-15    48.86\n",
       "Name: Oil, Length: 100, dtype: float64"
      ]
     },
     "execution_count": 7,
     "metadata": {},
     "output_type": "execute_result"
    }
   ],
   "source": [
    "oil_series = pd.Series(oil_array, index=dates, name=\"Oil\")\n",
    "oil_series"
   ]
  },
  {
   "cell_type": "code",
   "execution_count": 8,
   "id": "6db9c3c9",
   "metadata": {
    "scrolled": true
   },
   "outputs": [
    {
     "name": "stdout",
     "output_type": "stream",
     "text": [
      "52.765\n",
      "47.129999999999995\n"
     ]
    }
   ],
   "source": [
    "#mean of first and last 10 values\n",
    "\n",
    "print(oil_series.iloc[:10].mean())\n",
    "print(oil_series.iloc[-10:].mean())"
   ]
  },
  {
   "cell_type": "code",
   "execution_count": 9,
   "id": "dc98b30b",
   "metadata": {
    "scrolled": true
   },
   "outputs": [
    {
     "data": {
      "text/plain": [
       "0    52.36\n",
       "1    53.26\n",
       "2    53.77\n",
       "3    53.98\n",
       "Name: Oil, dtype: float64"
      ]
     },
     "execution_count": 9,
     "metadata": {},
     "output_type": "execute_result"
    }
   ],
   "source": [
    "#slicing specific date range and resetting index to integers.\n",
    "oil_series.loc[\"2017-01-01\":\"2017-01-07\"].reset_index(drop=True)"
   ]
  },
  {
   "cell_type": "markdown",
   "id": "c6e965dd",
   "metadata": {},
   "source": [
    "# Assignment 3: Sorting and Filtering Series\n",
    "\n",
    "* First, get the 10 lowest prices from the data. \n",
    "* Sort the 10 lowest prices by date, starting with the most recent and ending with the oldest price.\n",
    "\n",
    "* Finally, use the list of provided dates. Select only rows with these dates that had a price of less than 50 dollars per barrel."
   ]
  },
  {
   "cell_type": "code",
   "execution_count": 10,
   "id": "51326629",
   "metadata": {
    "scrolled": true
   },
   "outputs": [
    {
     "data": {
      "text/plain": [
       "date\n",
       "2017-05-04    45.55\n",
       "2017-05-09    45.84\n",
       "2017-05-05    46.23\n",
       "2017-05-08    46.46\n",
       "2017-03-23    47.00\n",
       "2017-03-21    47.02\n",
       "2017-03-27    47.02\n",
       "2017-03-14    47.24\n",
       "2017-05-10    47.28\n",
       "2017-03-22    47.29\n",
       "Name: Oil, dtype: float64"
      ]
     },
     "execution_count": 10,
     "metadata": {},
     "output_type": "execute_result"
    }
   ],
   "source": [
    "#Returns 10 lowest prices\n",
    "\n",
    "oil_series.nsmallest(10)"
   ]
  },
  {
   "cell_type": "code",
   "execution_count": 11,
   "id": "64960a41",
   "metadata": {
    "scrolled": true
   },
   "outputs": [
    {
     "data": {
      "text/plain": [
       "date\n",
       "2017-05-10    47.28\n",
       "2017-05-09    45.84\n",
       "2017-05-08    46.46\n",
       "2017-05-05    46.23\n",
       "2017-05-04    45.55\n",
       "2017-03-27    47.02\n",
       "2017-03-23    47.00\n",
       "2017-03-22    47.29\n",
       "2017-03-21    47.02\n",
       "2017-03-14    47.24\n",
       "Name: Oil, dtype: float64"
      ]
     },
     "execution_count": 11,
     "metadata": {},
     "output_type": "execute_result"
    }
   ],
   "source": [
    "#returns 10 lowest prices and sorts them from the most recent to the oldest\n",
    "\n",
    "oil_series.nsmallest(10).sort_index(ascending=False)"
   ]
  },
  {
   "cell_type": "code",
   "execution_count": 12,
   "id": "27b861ac",
   "metadata": {
    "scrolled": false
   },
   "outputs": [
    {
     "data": {
      "text/plain": [
       "date\n",
       "2017-03-08    49.83\n",
       "2017-03-09    48.75\n",
       "2017-03-10    48.05\n",
       "2017-03-13    47.95\n",
       "2017-03-14    47.24\n",
       "2017-03-15    48.34\n",
       "2017-03-16    48.30\n",
       "2017-03-17    48.34\n",
       "2017-03-20    47.79\n",
       "2017-03-21    47.02\n",
       "2017-03-22    47.29\n",
       "2017-03-23    47.00\n",
       "2017-03-24    47.30\n",
       "2017-03-27    47.02\n",
       "2017-03-28    48.36\n",
       "2017-03-29    49.47\n",
       "2017-04-21    49.64\n",
       "2017-04-24    48.90\n",
       "2017-04-25    49.22\n",
       "2017-04-26    49.22\n",
       "2017-04-27    48.96\n",
       "2017-04-28    49.31\n",
       "2017-05-01    48.83\n",
       "2017-05-02    47.65\n",
       "2017-05-03    47.79\n",
       "2017-05-04    45.55\n",
       "2017-05-05    46.23\n",
       "2017-05-08    46.46\n",
       "2017-05-09    45.84\n",
       "2017-05-10    47.28\n",
       "2017-05-11    47.81\n",
       "2017-05-12    47.83\n",
       "2017-05-15    48.86\n",
       "Name: Oil, dtype: float64"
      ]
     },
     "execution_count": 12,
     "metadata": {},
     "output_type": "execute_result"
    }
   ],
   "source": [
    "#returns only rows where price is lower than 50$ a barrel.\n",
    "\n",
    "oil_series[oil_series.le(50)]"
   ]
  },
  {
   "cell_type": "markdown",
   "id": "aae38154",
   "metadata": {},
   "source": [
    "# Assignment 4: Series Operations\n",
    "\n",
    "* Increase the prices in the oil series by 10%, and add an additional 2 dollars per barrel on top of that.\n",
    "\n",
    "* Then, create a series that represents the difference between each price and max price.\n",
    "\n",
    "* Finally, extract the month from the string dates in the index and store them as an integer in their own series."
   ]
  },
  {
   "cell_type": "code",
   "execution_count": 13,
   "id": "f25e3387",
   "metadata": {
    "scrolled": true
   },
   "outputs": [
    {
     "data": {
      "text/plain": [
       "date\n",
       "2016-12-20    59.442\n",
       "2016-12-21    58.584\n",
       "2016-12-22    59.178\n",
       "2016-12-23    59.211\n",
       "2016-12-27    60.102\n",
       "               ...  \n",
       "2017-05-09    52.424\n",
       "2017-05-10    54.008\n",
       "2017-05-11    54.591\n",
       "2017-05-12    54.613\n",
       "2017-05-15    55.746\n",
       "Name: Oil, Length: 100, dtype: float64"
      ]
     },
     "execution_count": 13,
     "metadata": {},
     "output_type": "execute_result"
    }
   ],
   "source": [
    "oil_series.mul(1.1).add(2)"
   ]
  },
  {
   "cell_type": "code",
   "execution_count": 14,
   "id": "bc2bdd53",
   "metadata": {
    "scrolled": true
   },
   "outputs": [
    {
     "data": {
      "text/plain": [
       "54.48"
      ]
     },
     "execution_count": 14,
     "metadata": {},
     "output_type": "execute_result"
    }
   ],
   "source": [
    "max_price = oil_series.max()\n",
    "max_price"
   ]
  },
  {
   "cell_type": "code",
   "execution_count": 15,
   "id": "f3ae7ef5",
   "metadata": {
    "scrolled": true
   },
   "outputs": [
    {
     "data": {
      "text/plain": [
       "date\n",
       "2016-12-20    2.26\n",
       "2016-12-21    3.04\n",
       "2016-12-22    2.50\n",
       "2016-12-23    2.47\n",
       "2016-12-27    1.66\n",
       "              ... \n",
       "2017-05-09    8.64\n",
       "2017-05-10    7.20\n",
       "2017-05-11    6.67\n",
       "2017-05-12    6.65\n",
       "2017-05-15    5.62\n",
       "Name: Oil, Length: 100, dtype: float64"
      ]
     },
     "execution_count": 15,
     "metadata": {},
     "output_type": "execute_result"
    }
   ],
   "source": [
    "oil_series.subtract(max_price).abs()"
   ]
  },
  {
   "cell_type": "code",
   "execution_count": 16,
   "id": "523b8b52",
   "metadata": {
    "scrolled": true
   },
   "outputs": [
    {
     "data": {
      "text/plain": [
       "1       1\n",
       "2       1\n",
       "3       1\n",
       "4       1\n",
       "5       1\n",
       "       ..\n",
       "1213    8\n",
       "1214    8\n",
       "1215    8\n",
       "1216    8\n",
       "1217    8\n",
       "Name: date, Length: 1175, dtype: int32"
      ]
     },
     "execution_count": 16,
     "metadata": {},
     "output_type": "execute_result"
    }
   ],
   "source": [
    "oil_month = oil[\"date\"].str.slice(5,7).astype(int)\n",
    "oil_month"
   ]
  },
  {
   "cell_type": "markdown",
   "id": "c6508f44",
   "metadata": {},
   "source": [
    "# Assignment 5: Series Aggregations\n",
    "\n",
    "* Calculate the sum and mean of prices in the month of March. \n",
    "\n",
    "* Next, calculate how many prices were recorded in January and February.\n",
    "\n",
    "* Then, calculate the 10th and 90th percentiles across all data.\n",
    "\n",
    "* Finally, how often did integer dollar value (e.g. 51, 52) occur in the data? Normalize this to a percentage.  "
   ]
  },
  {
   "cell_type": "code",
   "execution_count": 17,
   "id": "2dead60b",
   "metadata": {
    "scrolled": true
   },
   "outputs": [
    {
     "data": {
      "text/plain": [
       "324"
      ]
     },
     "execution_count": 17,
     "metadata": {},
     "output_type": "execute_result"
    }
   ],
   "source": [
    "#returns sum of all prices from March.\n",
    "\n",
    "oil_month[oil_month.eq(3)].sum()"
   ]
  },
  {
   "cell_type": "code",
   "execution_count": 18,
   "id": "f357104e",
   "metadata": {
    "scrolled": true
   },
   "outputs": [
    {
     "data": {
      "text/plain": [
       "3.0"
      ]
     },
     "execution_count": 18,
     "metadata": {},
     "output_type": "execute_result"
    }
   ],
   "source": [
    "#returns mean of all prices from March.\n",
    "\n",
    "oil_month[oil_month.eq(3)].mean()"
   ]
  },
  {
   "cell_type": "code",
   "execution_count": 19,
   "id": "7bd20fe6",
   "metadata": {
    "scrolled": false
   },
   "outputs": [
    {
     "data": {
      "text/plain": [
       "197"
      ]
     },
     "execution_count": 19,
     "metadata": {},
     "output_type": "execute_result"
    }
   ],
   "source": [
    "#returns number of prices that were recoreded in Jan and Feb.\n",
    "\n",
    "oil_month[oil_month.eq(1)|oil_month.eq(2)].count()"
   ]
  },
  {
   "cell_type": "code",
   "execution_count": 20,
   "id": "effe2594",
   "metadata": {
    "scrolled": true
   },
   "outputs": [
    {
     "data": {
      "text/plain": [
       "47.299"
      ]
     },
     "execution_count": 20,
     "metadata": {},
     "output_type": "execute_result"
    }
   ],
   "source": [
    "# returns 10 and 90 percentile\n",
    "\n",
    "oil_series.quantile(0.1)"
   ]
  },
  {
   "cell_type": "code",
   "execution_count": 21,
   "id": "4938246f",
   "metadata": {
    "scrolled": true
   },
   "outputs": [],
   "source": [
    "# oil_series.quantile(0.9)"
   ]
  },
  {
   "cell_type": "markdown",
   "id": "31029a85",
   "metadata": {},
   "source": [
    "Assignment 6: Missing Data\n",
    "There were some erroneous prices in our data, so they were filled in with missing values.\n",
    "\n",
    "Can you confirm the number of missing values in the price column?\n",
    "\n",
    "Once you’ve done that, fill the prices in with the median of the oil price series."
   ]
  },
  {
   "cell_type": "code",
   "execution_count": 22,
   "id": "76cd0e21",
   "metadata": {
    "scrolled": true
   },
   "outputs": [],
   "source": [
    "oil_series = oil_series.where(~oil_series.isin([51.44,47.83]),pd.NA)\n",
    "oil_series.isna().sum()\n",
    "\n",
    "oil_series = oil_series.fillna(oil_series.median())"
   ]
  },
  {
   "cell_type": "markdown",
   "id": "8de0b769",
   "metadata": {},
   "source": [
    "# Exercise 7: Apply and Where\n",
    "\n",
    "Write a function that outputs ‘buy’ if price is less than the 90th percentile and ‘wait’ if it’s not. Apply it to the oil series.\n",
    "\n",
    "Then, create a series that multiplies price by .9 if the date is ‘2016-12-23’ or ‘2017-05-10’, and 1.1 for all other dates. "
   ]
  },
  {
   "cell_type": "code",
   "execution_count": 23,
   "id": "dcfbbeab",
   "metadata": {
    "scrolled": true
   },
   "outputs": [
    {
     "data": {
      "text/plain": [
       "53.811"
      ]
     },
     "execution_count": 23,
     "metadata": {},
     "output_type": "execute_result"
    }
   ],
   "source": [
    "oil_series.quantile(0.9)"
   ]
  },
  {
   "cell_type": "code",
   "execution_count": 24,
   "id": "25a6df02",
   "metadata": {
    "scrolled": true
   },
   "outputs": [
    {
     "data": {
      "text/plain": [
       "array(['buy', 'buy', 'buy', 'buy', 'buy', 'wait', 'buy', 'buy', 'buy',\n",
       "       'buy', 'buy', 'wait', 'buy', 'buy', 'buy', 'buy', 'buy', 'buy',\n",
       "       'buy', 'buy', 'buy', 'buy', 'buy', 'buy', 'buy', 'buy', 'buy',\n",
       "       'buy', 'wait', 'buy', 'buy', 'buy', 'buy', 'buy', 'buy', 'wait',\n",
       "       'buy', 'buy', 'buy', 'buy', 'buy', 'wait', 'buy', 'wait', 'wait',\n",
       "       'wait', 'wait', 'wait', 'buy', 'buy', 'buy', 'buy', 'buy', 'buy',\n",
       "       'buy', 'buy', 'buy', 'buy', 'buy', 'buy', 'buy', 'buy', 'buy',\n",
       "       'buy', 'buy', 'buy', 'buy', 'buy', 'buy', 'buy', 'buy', 'buy',\n",
       "       'buy', 'buy', 'buy', 'buy', 'buy', 'buy', 'buy', 'buy', 'buy',\n",
       "       'buy', 'buy', 'buy', 'buy', 'buy', 'buy', 'buy', 'buy', 'buy',\n",
       "       'buy', 'buy', 'buy', 'buy', 'buy', 'buy', 'buy', 'buy', 'buy',\n",
       "       'buy'], dtype='<U4')"
      ]
     },
     "execution_count": 24,
     "metadata": {},
     "output_type": "execute_result"
    }
   ],
   "source": [
    "oil_where = np.where(oil_series < oil_series.quantile(0.9), \"buy\", \"wait\")\n",
    "# oil_wherepd = pd.Series(oil_where, index=dates)\n",
    "oil_where"
   ]
  },
  {
   "cell_type": "code",
   "execution_count": 25,
   "id": "376ac3e0",
   "metadata": {
    "scrolled": false
   },
   "outputs": [
    {
     "data": {
      "text/plain": [
       "date\n",
       "2016-12-20    57.4420\n",
       "2016-12-21    57.4255\n",
       "2016-12-22    57.1780\n",
       "2016-12-23    46.8090\n",
       "2016-12-27    58.1020\n",
       "               ...   \n",
       "2017-05-09    50.4240\n",
       "2017-05-10    42.5520\n",
       "2017-05-11    52.5910\n",
       "2017-05-12    57.4255\n",
       "2017-05-15    53.7460\n",
       "Length: 100, dtype: float64"
      ]
     },
     "execution_count": 25,
     "metadata": {},
     "output_type": "execute_result"
    }
   ],
   "source": [
    "pd.Series(\n",
    "np.where(oil_series.index.isin([\"2016-12-23\",\"2017-05-10\"]),\n",
    "    oil_series*0.9, \n",
    "    oil_series*1.1),index=dates\n",
    ")"
   ]
  },
  {
   "cell_type": "markdown",
   "id": "667f1371",
   "metadata": {},
   "source": [
    "PANDAS 101 EXERCISE"
   ]
  },
  {
   "cell_type": "code",
   "execution_count": 26,
   "id": "a42f081b",
   "metadata": {
    "scrolled": true
   },
   "outputs": [
    {
     "name": "stdout",
     "output_type": "stream",
     "text": [
      "1.4.4\n"
     ]
    }
   ],
   "source": [
    "# 1\n",
    "import pandas as pd\n",
    "\n",
    "print(pd.__version__)"
   ]
  },
  {
   "cell_type": "code",
   "execution_count": 27,
   "id": "cdd264f9",
   "metadata": {
    "scrolled": true
   },
   "outputs": [
    {
     "data": {
      "text/plain": [
       "a    0\n",
       "b    1\n",
       "c    2\n",
       "e    3\n",
       "d    4\n",
       "dtype: int32"
      ]
     },
     "execution_count": 27,
     "metadata": {},
     "output_type": "execute_result"
    }
   ],
   "source": [
    "#2\n",
    "import numpy as np\n",
    "mylist = list('abcedfghijklmnopqrstuvwxyz')\n",
    "myarr = np.arange(26)\n",
    "mydict = dict(zip(mylist, myarr))\n",
    "\n",
    "ser1 = pd.Series(mylist)\n",
    "ser2 = pd.Series(myarr)\n",
    "ser3 = pd.Series(mydict)\n",
    "ser3.head()"
   ]
  },
  {
   "cell_type": "code",
   "execution_count": 28,
   "id": "4f8a8674",
   "metadata": {
    "scrolled": true
   },
   "outputs": [],
   "source": [
    "# Q3\n",
    "mylist = list('abcedfghijklmnopqrstuvwxyz')\n",
    "myarr = np.arange(26)\n",
    "mydict = dict(zip(mylist, myarr))\n",
    "ser = pd.Series(mydict)"
   ]
  },
  {
   "cell_type": "code",
   "execution_count": 29,
   "id": "7e809d96",
   "metadata": {
    "scrolled": false
   },
   "outputs": [
    {
     "ename": "SyntaxError",
     "evalue": "invalid syntax (94473700.py, line 2)",
     "output_type": "error",
     "traceback": [
      "\u001b[1;36m  File \u001b[1;32m\"C:\\Users\\razhd\\AppData\\Local\\Temp\\ipykernel_14860\\94473700.py\"\u001b[1;36m, line \u001b[1;32m2\u001b[0m\n\u001b[1;33m    ser.\u001b[0m\n\u001b[1;37m        ^\u001b[0m\n\u001b[1;31mSyntaxError\u001b[0m\u001b[1;31m:\u001b[0m invalid syntax\n"
     ]
    }
   ],
   "source": [
    "ser = pd.DataFrame(ser)\n",
    "ser.\n",
    "ser.head()"
   ]
  },
  {
   "cell_type": "code",
   "execution_count": null,
   "id": "8578093d",
   "metadata": {
    "scrolled": true
   },
   "outputs": [],
   "source": [
    "# Q4\n",
    "import numpy as np\n",
    "ser1 = pd.Series(list('abcedfghijklmnopqrstuvwxyz'))\n",
    "ser2 = pd.Series(np.arange(26))\n",
    "\n",
    "serDF = pd.DataFrame({'col1':ser1,'col2':ser2})\n",
    "serDF.info()\n",
    "serDF.head()"
   ]
  },
  {
   "cell_type": "code",
   "execution_count": null,
   "id": "6949e8d5",
   "metadata": {
    "scrolled": true
   },
   "outputs": [],
   "source": [
    "# Q5\n",
    "ser = pd.Series(list('abcedfghijklmnopqrstuvwxyz'))\n",
    "ser = pd.Series(ser, name=\"alphabets\")\n",
    "ser.info()\n",
    "\n",
    "# alt:\n",
    "# ser.name = \"alphabets\""
   ]
  },
  {
   "cell_type": "code",
   "execution_count": null,
   "id": "7854bc8f",
   "metadata": {
    "scrolled": true
   },
   "outputs": [],
   "source": [
    "# Q6\n",
    "ser1 = pd.Series([1, 2, 3, 4, 5])\n",
    "ser2 = pd.Series([4, 5, 6, 7, 8])\n",
    "\n",
    "mask = ser1.isin(ser2)\n",
    "ser1.loc[~mask]"
   ]
  },
  {
   "cell_type": "code",
   "execution_count": null,
   "id": "1dd2b2a7",
   "metadata": {
    "scrolled": true
   },
   "outputs": [],
   "source": [
    "# Q7\n",
    "ser1 = pd.Series([1, 2, 3, 4, 5])\n",
    "ser2 = pd.Series([4, 5, 6, 7, 8])\n",
    "\n",
    "mask1 = ~ser1.isin(ser2)\n",
    "mask2 = ~ser2.isin(ser1)\n",
    "\n",
    "ser3 = pd.concat([ser1[mask1], ser2[mask2]])\n",
    "ser3"
   ]
  },
  {
   "cell_type": "code",
   "execution_count": null,
   "id": "1cafe32e",
   "metadata": {
    "scrolled": true
   },
   "outputs": [],
   "source": [
    "# Q8\n",
    "ser = pd.Series(np.random.normal(10, 5, 25))\n",
    "ser.describe()"
   ]
  },
  {
   "cell_type": "code",
   "execution_count": null,
   "id": "1fceee06",
   "metadata": {
    "scrolled": true
   },
   "outputs": [],
   "source": [
    "# Q9\n",
    "ser = pd.Series(np.take(list('abcdefgh'), np.random.randint(8, size=30)))\n",
    "\n",
    "# Solution\n",
    "ser.value_counts()"
   ]
  },
  {
   "cell_type": "code",
   "execution_count": null,
   "id": "6d2d44ed",
   "metadata": {
    "scrolled": true
   },
   "outputs": [],
   "source": [
    "# Q10\n",
    "np.random.RandomState(100)\n",
    "ser = pd.Series(np.random.randint(1, 5, [12]))\n",
    "\n",
    "ser[~ser.isin(ser.value_counts().index[:2])] = \"Other\"\n",
    "ser"
   ]
  },
  {
   "cell_type": "code",
   "execution_count": null,
   "id": "b9d87dfb",
   "metadata": {
    "scrolled": true
   },
   "outputs": [],
   "source": [
    "# Q11\n",
    "ser = pd.Series(np.random.random(20))\n",
    "# the following divides the series into 10 equal-width bins.\n",
    "bins = pd.cut(ser, bins=10,labels=[\"1st\",\"2nd\",\"3rd\",\"4th\",\"5th\",\"6th\",\"7th\",\"8th\",\"9th\",\"10th\"])\n",
    "bins.head()\n",
    "\n",
    "#alt\n",
    "# binsq = pd.qcut(ser, q=[0, .10, .20, .3, .4, .5, .6, .7, .8, .9, 1],\n",
    "#         labels=[\"1st\",\"2nd\",\"3rd\",\"4th\",\"5th\",\"6th\",\"7th\",\"8th\",\"9th\",\"10th\"])\n",
    "# binsq.head()"
   ]
  },
  {
   "cell_type": "code",
   "execution_count": null,
   "id": "2aa367c1",
   "metadata": {
    "scrolled": true
   },
   "outputs": [],
   "source": [
    "# Q12\n",
    "ser = pd.Series(np.random.randint(1, 10, 35))\n",
    "serDF = pd.DataFrame(ser.values.reshape(7,5))\n",
    "serDF"
   ]
  },
  {
   "cell_type": "code",
   "execution_count": null,
   "id": "39840cc3",
   "metadata": {
    "scrolled": true
   },
   "outputs": [],
   "source": [
    "# Q13\n",
    "ser = pd.Series(np.random.randint(1, 10, 7))\n",
    "ser.loc[ser % 3 == 0]"
   ]
  },
  {
   "cell_type": "code",
   "execution_count": null,
   "id": "ded6b014",
   "metadata": {
    "scrolled": true
   },
   "outputs": [],
   "source": [
    "# Q14\n",
    "ser = pd.Series(list('abcdefghijklmnopqrstuvwxyz'))\n",
    "pos = [0, 4, 8, 14, 20]\n",
    "ser.iloc[pos]"
   ]
  },
  {
   "cell_type": "code",
   "execution_count": 37,
   "id": "9adc1ab2",
   "metadata": {
    "scrolled": true
   },
   "outputs": [
    {
     "data": {
      "text/html": [
       "<div>\n",
       "<style scoped>\n",
       "    .dataframe tbody tr th:only-of-type {\n",
       "        vertical-align: middle;\n",
       "    }\n",
       "\n",
       "    .dataframe tbody tr th {\n",
       "        vertical-align: top;\n",
       "    }\n",
       "\n",
       "    .dataframe thead th {\n",
       "        text-align: right;\n",
       "    }\n",
       "</style>\n",
       "<table border=\"1\" class=\"dataframe\">\n",
       "  <thead>\n",
       "    <tr style=\"text-align: right;\">\n",
       "      <th></th>\n",
       "      <th>0</th>\n",
       "      <th>1</th>\n",
       "    </tr>\n",
       "  </thead>\n",
       "  <tbody>\n",
       "    <tr>\n",
       "      <th>0</th>\n",
       "      <td>0</td>\n",
       "      <td>a</td>\n",
       "    </tr>\n",
       "    <tr>\n",
       "      <th>1</th>\n",
       "      <td>1</td>\n",
       "      <td>b</td>\n",
       "    </tr>\n",
       "    <tr>\n",
       "      <th>2</th>\n",
       "      <td>2</td>\n",
       "      <td>c</td>\n",
       "    </tr>\n",
       "    <tr>\n",
       "      <th>3</th>\n",
       "      <td>3</td>\n",
       "      <td>d</td>\n",
       "    </tr>\n",
       "    <tr>\n",
       "      <th>4</th>\n",
       "      <td>4</td>\n",
       "      <td>e</td>\n",
       "    </tr>\n",
       "  </tbody>\n",
       "</table>\n",
       "</div>"
      ],
      "text/plain": [
       "   0  1\n",
       "0  0  a\n",
       "1  1  b\n",
       "2  2  c\n",
       "3  3  d\n",
       "4  4  e"
      ]
     },
     "execution_count": 37,
     "metadata": {},
     "output_type": "execute_result"
    }
   ],
   "source": [
    "# Q15\n",
    "ser1 = pd.Series(range(5))\n",
    "ser2 = pd.Series(list('abcde'))\n",
    "\n",
    "#horizontally\n",
    "pd.concat([ser1, ser2], axis=1)\n",
    "\n",
    "#vertically\n",
    "# pd.concat([ser1, ser2], axis=0) #can also omit axis since 0 is default."
   ]
  },
  {
   "cell_type": "code",
   "execution_count": 47,
   "id": "fb13efcc",
   "metadata": {
    "scrolled": true
   },
   "outputs": [
    {
     "data": {
      "text/plain": [
       "[5, 4, 0, 8]"
      ]
     },
     "execution_count": 47,
     "metadata": {},
     "output_type": "execute_result"
    }
   ],
   "source": [
    "# Q16\n",
    "ser1 = pd.Series([10, 9, 6, 5, 3, 1, 12, 8, 13])\n",
    "ser2 = pd.Series([1, 3, 10, 13])\n",
    "\n",
    "[np.where(i == ser1)[0].tolist()[0] for i in ser2]"
   ]
  },
  {
   "cell_type": "code",
   "execution_count": 50,
   "id": "a2c9fdbc",
   "metadata": {
    "scrolled": false
   },
   "outputs": [
    {
     "name": "stdout",
     "output_type": "stream",
     "text": [
      "0.40732756335289977\n"
     ]
    }
   ],
   "source": [
    "# Q17\n",
    "truth = pd.Series(range(10))\n",
    "pred = pd.Series(range(10)) + np.random.random(10)\n",
    "\n",
    "mse = np.square(truth - pred).mean()\n",
    "print(mse)\n",
    "\n",
    "# alt\n",
    "mse = np.mean((truth-pred)**2)\n",
    "print(mse)"
   ]
  },
  {
   "cell_type": "code",
   "execution_count": 52,
   "id": "8efc3b9c",
   "metadata": {
    "scrolled": true
   },
   "outputs": [
    {
     "data": {
      "text/plain": [
       "0     How\n",
       "1      To\n",
       "2    Kick\n",
       "3    Ass?\n",
       "dtype: object"
      ]
     },
     "execution_count": 52,
     "metadata": {},
     "output_type": "execute_result"
    }
   ],
   "source": [
    "# Q18\n",
    "ser = pd.Series(['how', 'to', 'kick', 'ass?'])\n",
    "\n",
    "ser.str.capitalize()"
   ]
  },
  {
   "cell_type": "code",
   "execution_count": null,
   "id": "139d082b",
   "metadata": {},
   "outputs": [],
   "source": []
  }
 ],
 "metadata": {
  "kernelspec": {
   "display_name": "Python 3 (ipykernel)",
   "language": "python",
   "name": "python3"
  },
  "language_info": {
   "codemirror_mode": {
    "name": "ipython",
    "version": 3
   },
   "file_extension": ".py",
   "mimetype": "text/x-python",
   "name": "python",
   "nbconvert_exporter": "python",
   "pygments_lexer": "ipython3",
   "version": "3.9.13"
  }
 },
 "nbformat": 4,
 "nbformat_minor": 5
}
