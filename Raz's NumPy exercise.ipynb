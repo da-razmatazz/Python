{
 "cells": [
  {
   "cell_type": "markdown",
   "id": "a456ce9a",
   "metadata": {},
   "source": [
    "NUMPY EXERCISE"
   ]
  },
  {
   "cell_type": "code",
   "execution_count": null,
   "id": "955a1da1",
   "metadata": {},
   "outputs": [],
   "source": [
    "import numpy as np"
   ]
  },
  {
   "cell_type": "code",
   "execution_count": null,
   "id": "26e8e2c5",
   "metadata": {},
   "outputs": [],
   "source": [
    "sales = [0, 25, 32222, 0, 8500, 69, 0, 23654, 24, 2536]\n",
    "\n",
    "sales_array = np.array(sales)\n",
    "sales_array"
   ]
  },
  {
   "cell_type": "code",
   "execution_count": null,
   "id": "b9900d9f",
   "metadata": {},
   "outputs": [],
   "source": [
    "type(sales_array)"
   ]
  },
  {
   "cell_type": "code",
   "execution_count": null,
   "id": "86ef31b1",
   "metadata": {
    "scrolled": true
   },
   "outputs": [],
   "source": [
    "print(f\"ndim: {sales_array.ndim}\")\n",
    "print(f\"shape:{sales_array.shape}\")\n",
    "print(f\"size: {sales_array.size}\")\n",
    "print(f\"dtype: {sales_array.dtype}\")"
   ]
  },
  {
   "cell_type": "code",
   "execution_count": null,
   "id": "f8bc07d7",
   "metadata": {
    "scrolled": true
   },
   "outputs": [],
   "source": [
    "my_list = [x * 10 for x in range(1,11)]\n",
    "my_list\n",
    "mylist_array = np.array(my_list)\n",
    "mylist_array\n",
    "\n",
    "print(f\"ndim: {mylist_array.ndim}\")\n",
    "print(f\"shape: {mylist_array.shape}\")\n",
    "print(f\"size: {mylist_array.size}\")\n",
    "print(f\"dtype: {mylist_array.dtype}\")"
   ]
  },
  {
   "cell_type": "code",
   "execution_count": null,
   "id": "0ac237c0",
   "metadata": {},
   "outputs": [],
   "source": [
    "np.ones((4,2),int)"
   ]
  },
  {
   "cell_type": "code",
   "execution_count": null,
   "id": "3b4df31a",
   "metadata": {},
   "outputs": [],
   "source": [
    "np.zeros((5, 7),int)"
   ]
  },
  {
   "cell_type": "code",
   "execution_count": null,
   "id": "ad238771",
   "metadata": {
    "scrolled": true
   },
   "outputs": [],
   "source": [
    "np.arange(5,15,2)"
   ]
  },
  {
   "cell_type": "code",
   "execution_count": null,
   "id": "618bc41c",
   "metadata": {
    "scrolled": true
   },
   "outputs": [],
   "source": [
    "np.linspace(0, 500, 25) \n",
    "\n",
    "# n is the number of results in the array that have \n",
    "# an equal space netween them"
   ]
  },
  {
   "cell_type": "code",
   "execution_count": null,
   "id": "d9385f1a",
   "metadata": {
    "scrolled": true
   },
   "outputs": [],
   "source": [
    "np.array(sales).reshape(2, 5)"
   ]
  },
  {
   "cell_type": "code",
   "execution_count": null,
   "id": "a599b286",
   "metadata": {},
   "outputs": [],
   "source": [
    "from numpy.random import default_rng"
   ]
  },
  {
   "cell_type": "code",
   "execution_count": null,
   "id": "c144702d",
   "metadata": {
    "scrolled": true
   },
   "outputs": [],
   "source": [
    "rng = default_rng(12345)\n",
    "\n",
    "random_array = rng.random(10)\n",
    "\n",
    "random_array"
   ]
  },
  {
   "cell_type": "code",
   "execution_count": null,
   "id": "d4c98890",
   "metadata": {
    "scrolled": true
   },
   "outputs": [],
   "source": [
    "rng = default_rng(12345)\n",
    "mean,stddev = 5, 1\n",
    "random_normal = rng.normal(mean, stddev, size=10)\n",
    "random_normal"
   ]
  },
  {
   "cell_type": "markdown",
   "id": "abbcb62c",
   "metadata": {},
   "source": [
    "Assignment"
   ]
  },
  {
   "cell_type": "code",
   "execution_count": null,
   "id": "c1508406",
   "metadata": {
    "scrolled": true
   },
   "outputs": [],
   "source": [
    "mylist_array"
   ]
  },
  {
   "cell_type": "code",
   "execution_count": null,
   "id": "9322ebd4",
   "metadata": {},
   "outputs": [],
   "source": [
    "np.array(mylist_array).reshape(5,2)"
   ]
  },
  {
   "cell_type": "code",
   "execution_count": null,
   "id": "9da2ef12",
   "metadata": {
    "scrolled": true
   },
   "outputs": [],
   "source": [
    "rng = default_rng(666)\n",
    "\n",
    "random_array = rng.random(9).reshape(3,3)\n",
    "\n",
    "random_array"
   ]
  },
  {
   "cell_type": "markdown",
   "id": "a94e5786",
   "metadata": {},
   "source": [
    "NUMPY EXERCISE (https://www.machinelearningplus.com/python/101-numpy-exercises-python/)"
   ]
  },
  {
   "cell_type": "code",
   "execution_count": null,
   "id": "078d2fea",
   "metadata": {
    "scrolled": true
   },
   "outputs": [],
   "source": [
    "import numpy as np\n",
    "print(np.__version__)"
   ]
  },
  {
   "cell_type": "code",
   "execution_count": null,
   "id": "64521af2",
   "metadata": {},
   "outputs": [],
   "source": [
    "arr = np.arange(10)\n",
    "arr"
   ]
  },
  {
   "cell_type": "code",
   "execution_count": null,
   "id": "39fe6d85",
   "metadata": {
    "scrolled": true
   },
   "outputs": [],
   "source": [
    "bool_arr = np.array([1, 2, 3, 4, 5, 6, 7, 8, 9],dtype=bool).reshape(3,3)\n",
    "bool_arr\n",
    "\n",
    "# alternative1\n",
    "np.ones((3,3),dtype=bool)\n",
    "\n",
    "# alternative2\n",
    "np.full((3,3), True, dtype=bool)"
   ]
  },
  {
   "cell_type": "code",
   "execution_count": null,
   "id": "a6b5d90d",
   "metadata": {},
   "outputs": [],
   "source": [
    "arr = np.array([0, 1, 2, 3, 4, 5, 6, 7, 8, 9])\n",
    "arr[1::2]\n",
    "\n",
    "#alternative\n",
    "arr[arr % 2 == 1]"
   ]
  },
  {
   "cell_type": "code",
   "execution_count": null,
   "id": "f869e3f3",
   "metadata": {
    "scrolled": true
   },
   "outputs": [],
   "source": [
    "arr[arr % 2 ==1] = -1\n",
    "arr\n",
    "\n",
    "#alt\n",
    "arr[1::2] = -1\n",
    "arr"
   ]
  },
  {
   "cell_type": "code",
   "execution_count": null,
   "id": "5390829a",
   "metadata": {
    "scrolled": true
   },
   "outputs": [],
   "source": [
    "arr = np.array([0, 1, 2, 3, 4, 5, 6, 7, 8, 9])\n",
    "x = arr.copy()\n",
    "x[x%2==1] = -1\n",
    "print(arr)\n",
    "x\n",
    "\n",
    "#alt\n",
    "x = np.where(arr%2==1, -1, arr)\n",
    "print(arr)\n",
    "x"
   ]
  },
  {
   "cell_type": "code",
   "execution_count": null,
   "id": "b5ea37e8",
   "metadata": {
    "scrolled": true
   },
   "outputs": [],
   "source": [
    "np.arange(10).reshape(2,5) #can use reshape(2,-1), -1 automatically determines num of cols."
   ]
  },
  {
   "cell_type": "code",
   "execution_count": null,
   "id": "2a70a391",
   "metadata": {
    "scrolled": true
   },
   "outputs": [],
   "source": [
    "a = np.arange(10).reshape(2,-1)\n",
    "b = np.repeat(1, 10).reshape(2,-1)\n",
    "np.vstack((a,b))\n",
    "\n",
    "#alt\n",
    "np.concatenate((a,b), axis=0)"
   ]
  },
  {
   "cell_type": "code",
   "execution_count": null,
   "id": "5b8d1250",
   "metadata": {
    "scrolled": true
   },
   "outputs": [],
   "source": [
    "a = np.arange(10).reshape(2,-1)\n",
    "b = np.repeat(1, 10).reshape(2,-1)\n",
    "np.hstack((a,b))\n",
    "\n",
    "#alt\n",
    "np.concatenate((a,b), axis=1)"
   ]
  },
  {
   "cell_type": "code",
   "execution_count": null,
   "id": "4473b2b2",
   "metadata": {
    "scrolled": true
   },
   "outputs": [],
   "source": [
    "a = np.array([1,2,3])\n",
    "np.r_[np.repeat(a,3),np.tile(a,3)]"
   ]
  },
  {
   "cell_type": "code",
   "execution_count": null,
   "id": "8907d762",
   "metadata": {
    "scrolled": true
   },
   "outputs": [],
   "source": [
    "a = np.array([1,2,3,2,3,4,3,4,5,6])\n",
    "b = np.array([7,2,10,2,7,4,9,4,9,8])\n",
    "\n",
    "c = np.intersect1d(a,b)\n",
    "c"
   ]
  },
  {
   "cell_type": "code",
   "execution_count": null,
   "id": "0bb813ed",
   "metadata": {
    "scrolled": true
   },
   "outputs": [],
   "source": [
    "a = np.array([1,2,3,4,5])\n",
    "b = np.array([5,6,7,8,9])\n",
    "\n",
    "c = np.setdiff1d(a,b)\n",
    "c"
   ]
  },
  {
   "cell_type": "code",
   "execution_count": null,
   "id": "fb13c122",
   "metadata": {
    "scrolled": true
   },
   "outputs": [],
   "source": [
    "a = np.array([1,2,3,2,3,4,3,4,5,6])\n",
    "b = np.array([7,2,10,2,7,4,9,4,9,8])\n",
    "\n",
    "c = np.where(a==b)\n",
    "c\n",
    "\n",
    "#alt\n",
    "common = np.where(np.isin(a,b))\n",
    "common"
   ]
  },
  {
   "cell_type": "code",
   "execution_count": null,
   "id": "13c3b157",
   "metadata": {
    "scrolled": true
   },
   "outputs": [],
   "source": [
    "a = np.array([2, 6, 1, 9, 10, 3, 27])\n",
    "\n",
    "a[(a>=5) & (a<=10)]"
   ]
  },
  {
   "cell_type": "code",
   "execution_count": null,
   "id": "61f23829",
   "metadata": {
    "scrolled": true
   },
   "outputs": [],
   "source": [
    "def maxx(x, y):\n",
    "    \"\"\"Get the maximum of two items\"\"\"\n",
    "    if x >= y:\n",
    "        return x\n",
    "    else:\n",
    "        return y\n",
    "\n",
    "maxx(1, 5)"
   ]
  },
  {
   "cell_type": "code",
   "execution_count": null,
   "id": "c2a6e8e0",
   "metadata": {},
   "outputs": [],
   "source": [
    "#converting the maxx function to work on np arrays.\n",
    "a = np.array([5, 7, 9, 8, 6, 4, 5])\n",
    "b = np.array([6, 3, 4, 8, 9, 7, 1])\n",
    "\n",
    "def maxx(x,y):\n",
    "    \"\"\"Get the maximum of two arrays\"\"\"\n",
    "    x>=y\n",
    "    return np.maximum(x,y, dtype=float)\n",
    "\n",
    "maxx(a,b)"
   ]
  },
  {
   "cell_type": "code",
   "execution_count": null,
   "id": "bf9ce399",
   "metadata": {
    "scrolled": true
   },
   "outputs": [],
   "source": [
    "arr = np.arange(9).reshape(3,3)\n",
    "arr"
   ]
  },
  {
   "cell_type": "code",
   "execution_count": null,
   "id": "b7c3d9d0",
   "metadata": {
    "scrolled": false
   },
   "outputs": [],
   "source": [
    "col1=0\n",
    "col2=1\n",
    "\n",
    "arr[:,[col1,col2]]=arr[:,[col2,col1]]\n",
    "\n",
    "#alt\n",
    "arr[:,[1,0,2]]"
   ]
  },
  {
   "cell_type": "code",
   "execution_count": null,
   "id": "5d09f123",
   "metadata": {},
   "outputs": [],
   "source": [
    "arr = np.arange(9).reshape(3,3)\n",
    "arr[[1,0,2],:]"
   ]
  },
  {
   "cell_type": "code",
   "execution_count": null,
   "id": "f8d079f1",
   "metadata": {
    "scrolled": true
   },
   "outputs": [],
   "source": [
    "arr = np.arange(9).reshape(3,3)\n",
    "arr[::-1,:]"
   ]
  },
  {
   "cell_type": "code",
   "execution_count": null,
   "id": "01d43c17",
   "metadata": {
    "scrolled": true
   },
   "outputs": [],
   "source": [
    "arr = np.arange(9).reshape(3,3)\n",
    "arr[:,::-1]"
   ]
  },
  {
   "cell_type": "code",
   "execution_count": null,
   "id": "91850efb",
   "metadata": {
    "scrolled": true
   },
   "outputs": [],
   "source": [
    "from numpy import random\n",
    "r = np.random.uniform(5,10,(5,3))\n",
    "r"
   ]
  },
  {
   "cell_type": "code",
   "execution_count": null,
   "id": "a3fa8051",
   "metadata": {
    "scrolled": true
   },
   "outputs": [],
   "source": [
    "np.around(r,3)\n",
    "\n",
    "#alt\n",
    "np.round(r,3)"
   ]
  },
  {
   "cell_type": "code",
   "execution_count": null,
   "id": "62071d52",
   "metadata": {
    "scrolled": true
   },
   "outputs": [],
   "source": [
    "np.random.seed(100)\n",
    "rand_arr = np.random.random([3,3])/1e3\n",
    "rand_arr"
   ]
  },
  {
   "cell_type": "code",
   "execution_count": null,
   "id": "ae45a48a",
   "metadata": {
    "scrolled": true
   },
   "outputs": [],
   "source": [
    "# EXCERCISE no.23\n",
    "np.set_printoptions(precision=6)\n",
    "rand_arr"
   ]
  }
 ],
 "metadata": {
  "kernelspec": {
   "display_name": "Python 3 (ipykernel)",
   "language": "python",
   "name": "python3"
  },
  "language_info": {
   "codemirror_mode": {
    "name": "ipython",
    "version": 3
   },
   "file_extension": ".py",
   "mimetype": "text/x-python",
   "name": "python",
   "nbconvert_exporter": "python",
   "pygments_lexer": "ipython3",
   "version": "3.9.13"
  }
 },
 "nbformat": 4,
 "nbformat_minor": 5
}
